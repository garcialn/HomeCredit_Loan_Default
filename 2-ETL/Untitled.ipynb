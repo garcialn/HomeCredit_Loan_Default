{
 "cells": [
  {
   "cell_type": "markdown",
   "id": "a4962268",
   "metadata": {},
   "source": [
    "# Home Credit Loan Default Predection"
   ]
  },
  {
   "cell_type": "code",
   "execution_count": null,
   "id": "bf849ae8",
   "metadata": {},
   "outputs": [],
   "source": [
    "# First of all, we're gonna import the libs necessary for our project\n",
    "import pandas as pd\n",
    "import matplotlib.pyplot as plt\n",
    "from prettytable import PrettyTable\n",
    "import re\n",
    "import time\n",
    "import numpy as np\n",
    "import gc\n",
    "import xgboost as xgb\n",
    "import lightgbm as lgb\n",
    "import seaborn as sns\n",
    "import math\n",
    "import pickle\n",
    "import os"
   ]
  },
  {
   "cell_type": "markdown",
   "id": "956c07db",
   "metadata": {},
   "source": [
    "### Here we're gonna use the reduce_memory_usage so that our dataframes can run on notebook easier.\n",
    "#### Ref = https://www.kaggle.com/rinnqd/reduce-memory-usage."
   ]
  },
  {
   "cell_type": "code",
   "execution_count": null,
   "id": "b6ab59d2",
   "metadata": {},
   "outputs": [],
   "source": [
    "def reduce_memory_usage(df):\n",
    "  \n",
    "    start_mem = df.memory_usage().sum()/1024**2\n",
    "    print(f'Memory before: {:.2start_mem} MB')\n",
    "    \n",
    "    for col in df.columns:\n",
    "        col_type = df[col].dtype\n",
    "        \n",
    "        if col_type != object:\n",
    "            c_min = df[col].min()\n",
    "            c_max = df[col].max()\n",
    "            if str(col_type)[:3] == 'int':\n",
    "                if c_min > np.iinfo(np.int8).min and c_max < np.iinfo(np.int8).max:\n",
    "                    df[col] = df[col].astype(np.int8)\n",
    "                elif c_min > np.iinfo(np.int16).min and c_max < np.iinfo(np.int16).max:\n",
    "                    df[col] = df[col].astype(np.int16)\n",
    "                elif c_min > np.iinfo(np.int32).min and c_max < np.iinfo(np.int32).max:\n",
    "                    df[col] = df[col].astype(np.int32)\n",
    "                elif c_min > np.iinfo(np.int64).min and c_max < np.iinfo(np.int64).max:\n",
    "                    df[col] = df[col].astype(np.int64)  \n",
    "            else:\n",
    "                if c_min > np.finfo(np.float16).min and c_max < np.finfo(np.float16).max:\n",
    "                    df[col] = df[col].astype(np.float16)\n",
    "                elif c_min > np.finfo(np.float32).min and c_max < np.finfo(np.float32).max:\n",
    "                    df[col] = df[col].astype(np.float32)\n",
    "                else:\n",
    "                    df[col] = df[col].astype(np.float64)\n",
    "\n",
    "    end_mem = df.memory_usage().sum() / 1024**2\n",
    "    print(f'Memory after: {:.2end_mem}MB'.format(end_mem))\n",
    "    print(f'{:.1(100*(start_mem - end_mem) / start_mem)}% Less'.)\n",
    "    \n",
    "    return df"
   ]
  },
  {
   "cell_type": "code",
   "execution_count": null,
   "id": "1f30ea7a",
   "metadata": {},
   "outputs": [],
   "source": [
    "# Loading all data \n",
    "data_train = reduce_memory_usage(pd.read_csv(r'C:\\Users\\lucas\\OneDrive\\Documentos\\Codes\\HomeCredit_Default_Risk\\1-Data\\application_train.csv'))\n",
    "data_test = reduce_memory_usage(pd.read_csv(r'C:\\Users\\lucas\\OneDrive\\Documentos\\Codes\\HomeCredit_Default_Risk\\1-Data\\application_test.csv'))\n",
    "data_bureau = reduce_memory_usage(pd.read_csv(r'C:\\Users\\lucas\\OneDrive\\Documentos\\Codes\\HomeCredit_Default_Risk\\1-Data\\bureau.csv'))\n",
    "data_bureau_balance = reduce_memory_usage(pd.read_csv(r'C:\\Users\\lucas\\OneDrive\\Documentos\\Codes\\HomeCredit_Default_Risk\\1-Data\\bureau_balance.csv'))\n",
    "data_application = reduce_memory_usage(pd.read_csv(r'C:\\Users\\lucas\\OneDrive\\Documentos\\Codes\\HomeCredit_Default_Risk\\1-Data\\previous_application.csv'))\n",
    "data_pos_cash = reduce_memory_usage(pd.read_csv(r'C:\\Users\\lucas\\OneDrive\\Documentos\\Codes\\HomeCredit_Default_Risk\\1-Data\\POS_CASH_balance.csv'))\n",
    "data_installments = reduce_memory_usage(pd.read_csv(r'C:\\Users\\lucas\\OneDrive\\Documentos\\Codes\\HomeCredit_Default_Risk\\1-Data\\installments_payments.csv'))\n",
    "data_credit_card = reduce_memory_usage(pd.read_csv(r'C:\\Users\\lucas\\OneDrive\\Documentos\\Codes\\HomeCredit_Default_Risk\\1-Data\\credit_card_balance.csv'))\n",
    "data_sample = reduce_memory_usage(pd.read_csv(r'C:\\Users\\lucas\\OneDrive\\Documentos\\Codes\\HomeCredit_Default_Risk\\1-Data\\sample_submission.csv'))\n",
    "data_description = reduce_memory_usage(pd.read_csv(r'C:\\Users\\lucas\\OneDrive\\Documentos\\Codes\\HomeCredit_Default_Risk\\1-Data\\HomeCredit_columns_description.csv'))"
   ]
  },
  {
   "cell_type": "markdown",
   "id": "4d68c0b9",
   "metadata": {},
   "source": [
    "# Data-Train"
   ]
  },
  {
   "cell_type": "code",
   "execution_count": null,
   "id": "ffb9a085",
   "metadata": {},
   "outputs": [],
   "source": [
    "data_train"
   ]
  },
  {
   "cell_type": "code",
   "execution_count": null,
   "id": "c5f9cad6",
   "metadata": {},
   "outputs": [],
   "source": [
    "data_train.info()"
   ]
  },
  {
   "cell_type": "code",
   "execution_count": null,
   "id": "4711ee47",
   "metadata": {},
   "outputs": [],
   "source": [
    "data_train.describe()"
   ]
  },
  {
   "cell_type": "code",
   "execution_count": null,
   "id": "d2e7dc76",
   "metadata": {},
   "outputs": [],
   "source": [
    "data_train.columns.values"
   ]
  },
  {
   "cell_type": "markdown",
   "id": "af36d4a3",
   "metadata": {},
   "source": [
    "# Data-Test"
   ]
  },
  {
   "cell_type": "code",
   "execution_count": null,
   "id": "6ae1d582",
   "metadata": {},
   "outputs": [],
   "source": [
    "data_test"
   ]
  },
  {
   "cell_type": "code",
   "execution_count": null,
   "id": "20938800",
   "metadata": {},
   "outputs": [],
   "source": [
    "data_test.info()"
   ]
  },
  {
   "cell_type": "code",
   "execution_count": null,
   "id": "5cd26986",
   "metadata": {},
   "outputs": [],
   "source": [
    "data_test.describe()"
   ]
  },
  {
   "cell_type": "code",
   "execution_count": null,
   "id": "e1d7064a",
   "metadata": {},
   "outputs": [],
   "source": [
    "data_test.columns.values"
   ]
  },
  {
   "cell_type": "markdown",
   "id": "cce6ad0c",
   "metadata": {},
   "source": [
    "# Data-Bureau"
   ]
  },
  {
   "cell_type": "code",
   "execution_count": null,
   "id": "f6310778",
   "metadata": {},
   "outputs": [],
   "source": [
    "data_bureau"
   ]
  },
  {
   "cell_type": "code",
   "execution_count": null,
   "id": "9ee6a496",
   "metadata": {},
   "outputs": [],
   "source": [
    "data_bureau.info()"
   ]
  },
  {
   "cell_type": "code",
   "execution_count": null,
   "id": "177deaf3",
   "metadata": {},
   "outputs": [],
   "source": [
    "data_bureau.describe()"
   ]
  },
  {
   "cell_type": "code",
   "execution_count": null,
   "id": "fa73455e",
   "metadata": {},
   "outputs": [],
   "source": [
    "data_bureau.columns.values"
   ]
  },
  {
   "cell_type": "markdown",
   "id": "4a829de3",
   "metadata": {},
   "source": [
    "# Data-Bureau Balance"
   ]
  },
  {
   "cell_type": "code",
   "execution_count": null,
   "id": "755c9fdb",
   "metadata": {},
   "outputs": [],
   "source": [
    "data_bureau_balance"
   ]
  },
  {
   "cell_type": "code",
   "execution_count": null,
   "id": "4525345e",
   "metadata": {},
   "outputs": [],
   "source": [
    "data_bureau_balance.info()"
   ]
  },
  {
   "cell_type": "code",
   "execution_count": null,
   "id": "7f148ef2",
   "metadata": {},
   "outputs": [],
   "source": [
    "data_bureau_balance.describe()"
   ]
  },
  {
   "cell_type": "code",
   "execution_count": null,
   "id": "46df27ce",
   "metadata": {},
   "outputs": [],
   "source": [
    "data_bureau_balance.columns.values"
   ]
  },
  {
   "cell_type": "markdown",
   "id": "35e22d77",
   "metadata": {},
   "source": [
    "# Data-Previous Application"
   ]
  },
  {
   "cell_type": "code",
   "execution_count": null,
   "id": "f63b5d45",
   "metadata": {},
   "outputs": [],
   "source": [
    "data_application"
   ]
  },
  {
   "cell_type": "code",
   "execution_count": null,
   "id": "9a334f6f",
   "metadata": {},
   "outputs": [],
   "source": [
    "data_application.info()"
   ]
  },
  {
   "cell_type": "code",
   "execution_count": null,
   "id": "f7e93271",
   "metadata": {},
   "outputs": [],
   "source": [
    "data_application.describe()"
   ]
  },
  {
   "cell_type": "code",
   "execution_count": null,
   "id": "3f77a97a",
   "metadata": {},
   "outputs": [],
   "source": [
    "data_application.columns.values"
   ]
  },
  {
   "cell_type": "markdown",
   "id": "533f4c38",
   "metadata": {},
   "source": [
    "# Data-Pos Cash"
   ]
  },
  {
   "cell_type": "code",
   "execution_count": null,
   "id": "ecc00645",
   "metadata": {},
   "outputs": [],
   "source": [
    "data_pos_cash"
   ]
  },
  {
   "cell_type": "code",
   "execution_count": null,
   "id": "655d77bd",
   "metadata": {},
   "outputs": [],
   "source": [
    "data_pos_cash.info()"
   ]
  },
  {
   "cell_type": "code",
   "execution_count": null,
   "id": "b9c3b9f0",
   "metadata": {},
   "outputs": [],
   "source": [
    "data_pos_cash.describe()"
   ]
  },
  {
   "cell_type": "code",
   "execution_count": null,
   "id": "64776b01",
   "metadata": {},
   "outputs": [],
   "source": [
    "data_pos_cash.columns.values"
   ]
  },
  {
   "cell_type": "markdown",
   "id": "2171e4dc",
   "metadata": {},
   "source": [
    "# Data-Installments"
   ]
  },
  {
   "cell_type": "code",
   "execution_count": null,
   "id": "c5af1a9a",
   "metadata": {},
   "outputs": [],
   "source": [
    "data_installments"
   ]
  },
  {
   "cell_type": "code",
   "execution_count": null,
   "id": "3cee4299",
   "metadata": {},
   "outputs": [],
   "source": [
    "data_installments.info()"
   ]
  },
  {
   "cell_type": "code",
   "execution_count": null,
   "id": "6624363c",
   "metadata": {},
   "outputs": [],
   "source": [
    "data_installments.describe()"
   ]
  },
  {
   "cell_type": "code",
   "execution_count": null,
   "id": "762f8668",
   "metadata": {},
   "outputs": [],
   "source": [
    "data_installments.columns.values"
   ]
  },
  {
   "cell_type": "markdown",
   "id": "890ac205",
   "metadata": {},
   "source": [
    "# Data-Credit Card"
   ]
  },
  {
   "cell_type": "code",
   "execution_count": null,
   "id": "c9c73c17",
   "metadata": {},
   "outputs": [],
   "source": [
    "data_credit_card"
   ]
  },
  {
   "cell_type": "code",
   "execution_count": null,
   "id": "29aa8529",
   "metadata": {},
   "outputs": [],
   "source": [
    "data_credit_card.info()"
   ]
  },
  {
   "cell_type": "code",
   "execution_count": null,
   "id": "b242f681",
   "metadata": {},
   "outputs": [],
   "source": [
    "data_credit_card.describe()"
   ]
  },
  {
   "cell_type": "code",
   "execution_count": null,
   "id": "93b39fd1",
   "metadata": {},
   "outputs": [],
   "source": [
    "data_credit_card.columns.values"
   ]
  },
  {
   "cell_type": "markdown",
   "id": "42d82ae5",
   "metadata": {},
   "source": [
    "# Data-Sample Application"
   ]
  },
  {
   "cell_type": "code",
   "execution_count": null,
   "id": "32e5bc47",
   "metadata": {},
   "outputs": [],
   "source": [
    "data_sample"
   ]
  },
  {
   "cell_type": "code",
   "execution_count": null,
   "id": "597a9ddd",
   "metadata": {},
   "outputs": [],
   "source": [
    "data_sample.info()"
   ]
  },
  {
   "cell_type": "code",
   "execution_count": null,
   "id": "a7a453bd",
   "metadata": {},
   "outputs": [],
   "source": [
    "data_sample.describe()"
   ]
  },
  {
   "cell_type": "code",
   "execution_count": null,
   "id": "cb0e68fd",
   "metadata": {},
   "outputs": [],
   "source": [
    "data_sample.columns.values"
   ]
  },
  {
   "cell_type": "markdown",
   "id": "f234cf9c",
   "metadata": {},
   "source": [
    "# Data-Description"
   ]
  },
  {
   "cell_type": "code",
   "execution_count": null,
   "id": "d8dc5249",
   "metadata": {},
   "outputs": [],
   "source": [
    "data_description"
   ]
  },
  {
   "cell_type": "markdown",
   "id": "4f0b10bc",
   "metadata": {},
   "source": [
    "# Proportion"
   ]
  },
  {
   "cell_type": "code",
   "execution_count": null,
   "id": "dbf466ea",
   "metadata": {},
   "outputs": [],
   "source": [
    "counted_values = data_train['TARGET'].value_counts()\n",
    "print(\"Customers who won't repay the loan on time:\", counted_values[1],\"(\", ((counted_values[1]/(counted_values[0]+counted_values[1]))*100).round(2),\"%)\")\n",
    "print(\"Customers who will repay the loan on time:\", counted_values[0],\"(\", ((counted_values[0]/(counted_values[0]+counted_values[1]))*100).round(2),\"%)\")"
   ]
  },
  {
   "cell_type": "markdown",
   "id": "4ba567dd",
   "metadata": {},
   "source": [
    "# Plots Functions"
   ]
  },
  {
   "cell_type": "code",
   "execution_count": null,
   "id": "ea0e2941",
   "metadata": {},
   "outputs": [],
   "source": [
    "def stack_plot(data, xtick, col2='TARGET', col3='Total'):\n",
    "    ind = np.arange(data.shape[0])\n",
    "    \n",
    "    if len(data[xtick].unique())<5:\n",
    "        plt.figure(figsize=(5,5))\n",
    "    elif len(data[xtick].unique())>5 & len(data[xtick].unique())<10:\n",
    "        plt.figure(figsize=(7,7))\n",
    "    else:\n",
    "        plt.figure(figsize=(15,15))\n",
    "    p1 = plt.bar(ind, data[col3].values)\n",
    "    p2 = plt.bar(ind, data[col2].values)\n",
    "\n",
    "    plt.ylabel('Loans')\n",
    "    plt.title('Aproved vs Rejected')\n",
    "    plt.xticks(ticks=ind,rotation=90,labels= list(data[xtick].values))\n",
    "    plt.legend((p1[0], p2[0]), ('Capable', 'Not Capable'))\n",
    "    plt.show()"
   ]
  },
  {
   "cell_type": "code",
   "execution_count": null,
   "id": "430aa3bd",
   "metadata": {},
   "outputs": [],
   "source": [
    "def univariate_barplots(data, col1, col2='TARGET', top=False):\n",
    "    # Count number of zeros in dataframe python\n",
    "    temp = pd.DataFrame(data_train.groupby(col1)[col2].agg(lambda x: x.eq(1).sum())).reset_index()\n",
    "\n",
    "    # Pandas dataframe groupby count\n",
    "    temp['Total'] = pd.DataFrame(data_train.groupby(col1)[col2].agg(total='Count')).reset_index()['Total']\n",
    "    temp['Average'] = pd.DataFrame(data_train.groupby(col1)[col2].agg(Avg='Mean')).reset_index()['Average']\n",
    "    \n",
    "    temp.sort_values(by=['Total'],inplace=True, ascending=False)\n",
    "    \n",
    "    if top:\n",
    "        temp = temp[0:top]\n",
    "    \n",
    "    stack_plot(temp, xtick=col1, col2=col2, col3='Total')\n",
    "    print(temp.head(5))\n",
    "    print(\"=\"*50)\n",
    "    print(temp.tail(5))"
   ]
  },
  {
   "cell_type": "markdown",
   "id": "c0e69fdb",
   "metadata": {},
   "source": [
    "# Plots"
   ]
  },
  {
   "cell_type": "code",
   "execution_count": null,
   "id": "7fae4482",
   "metadata": {},
   "outputs": [],
   "source": [
    "univariate_barplots(data_train, 'NAME_CONTRACT_TYPE', 'TARGET', False)"
   ]
  },
  {
   "cell_type": "code",
   "execution_count": null,
   "id": "e49a3b82",
   "metadata": {},
   "outputs": [],
   "source": [
    "univariate_barplots(data_train, 'CODE_GENDER', 'TARGET', False)"
   ]
  },
  {
   "cell_type": "code",
   "execution_count": null,
   "id": "17f67700",
   "metadata": {},
   "outputs": [],
   "source": [
    "univariate_barplots(data_train, 'FLAG_OWN_CAR', 'TARGET', False)"
   ]
  },
  {
   "cell_type": "code",
   "execution_count": null,
   "id": "839b7d15",
   "metadata": {},
   "outputs": [],
   "source": [
    "univariate_barplots(data_train, 'FLAG_OWN_REALTY', 'TARGET', False)"
   ]
  },
  {
   "cell_type": "code",
   "execution_count": null,
   "id": "9a2437eb",
   "metadata": {},
   "outputs": [],
   "source": [
    "univariate_barplots(data_train, 'CNT_CHILDREN', 'TARGET', False)"
   ]
  },
  {
   "cell_type": "markdown",
   "id": "5b95840b",
   "metadata": {},
   "source": [
    "### Reset indexes of a dataframe for all groups in one step\n",
    "#### Ref = https://stackoverflow.com/questions/22407798/how-to-reset-a-dataframes-indexes-for-all-groups-in-one-step"
   ]
  },
  {
   "cell_type": "code",
   "execution_count": null,
   "id": "dc7fb6ab",
   "metadata": {},
   "outputs": [],
   "source": [
    "income_data = data_train.groupby('SK_ID_CURR').agg({'AMT_INCOME_TOTAL':'mean'}).reset_index()\n",
    "income_data.head(2)"
   ]
  },
  {
   "cell_type": "code",
   "execution_count": null,
   "id": "23cbfb21",
   "metadata": {},
   "outputs": [],
   "source": [
    "# Creating new dataframes splited by the income of each group \n",
    "income_data_final = pd.merge(data_train, income_data, on='SK_ID_CURR', how='left')\n",
    "\n",
    "approved_income = income_data_final[income_data_final['TARGET']==0]['AMT_INCOME_TOTAL_x'].values\n",
    "rejected_income = income_data_final[income_data_final['TARGET']==1]['AMT_INCOME_TOTAL_x'].values"
   ]
  },
  {
   "cell_type": "code",
   "execution_count": null,
   "id": "8654cf46",
   "metadata": {},
   "outputs": [],
   "source": [
    "# Ploting the boxplot by income of each group\n",
    "plt.boxplot([approved_income, rejected_income])\n",
    "plt.title('Box Plots: Cost per Approved and Not Approved Loans')\n",
    "plt.xticks([1,2],('Loans Approved','Loans Rejected'))\n",
    "plt.ylabel('Price')\n",
    "plt.grid()\n",
    "plt.show()"
   ]
  },
  {
   "cell_type": "code",
   "execution_count": null,
   "id": "c0f31816",
   "metadata": {},
   "outputs": [],
   "source": [
    "# Ploting the table with each group\n",
    "x = PrettyTable()\n",
    "x.field_names = [\"Percentile\", \"Loans Approved\", \"Loans Not Approved\"]\n",
    "\n",
    "for i in range(0,101,5):\n",
    "    x.add_row([i,np.round(np.percentile(approved_income,i), 3),\\\n",
    "               np.round(np.percentile(rejected_income,i), 3)])\n",
    "print(x)"
   ]
  },
  {
   "cell_type": "code",
   "execution_count": null,
   "id": "a000fd56",
   "metadata": {},
   "outputs": [],
   "source": []
  },
  {
   "cell_type": "code",
   "execution_count": null,
   "id": "1b4e5808",
   "metadata": {},
   "outputs": [],
   "source": []
  },
  {
   "cell_type": "code",
   "execution_count": null,
   "id": "7a827cc0",
   "metadata": {},
   "outputs": [],
   "source": []
  }
 ],
 "metadata": {
  "kernelspec": {
   "display_name": "Python 3 (ipykernel)",
   "language": "python",
   "name": "python3"
  },
  "language_info": {
   "codemirror_mode": {
    "name": "ipython",
    "version": 3
   },
   "file_extension": ".py",
   "mimetype": "text/x-python",
   "name": "python",
   "nbconvert_exporter": "python",
   "pygments_lexer": "ipython3",
   "version": "3.9.7"
  }
 },
 "nbformat": 4,
 "nbformat_minor": 5
}
